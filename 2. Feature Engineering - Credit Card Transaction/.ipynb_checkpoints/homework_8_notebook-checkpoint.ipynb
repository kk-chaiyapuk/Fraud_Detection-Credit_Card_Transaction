{
 "cells": [
  {
   "cell_type": "markdown",
   "id": "27157657",
   "metadata": {
    "id": "27157657"
   },
   "source": [
    "## Data Quality"
   ]
  },
  {
   "cell_type": "code",
   "execution_count": 1,
   "id": "9e3a8a8c",
   "metadata": {
    "id": "9e3a8a8c"
   },
   "outputs": [],
   "source": [
    "import pandas as pd \n",
    "import numpy as np\n",
    "import seaborn as sns\n",
    "import matplotlib.pyplot as plt\n",
    "import datetime as dt\n",
    "import calendar\n",
    "import time\n",
    "plt.style.use('ggplot')\n",
    "start_time = dt.datetime.now()\n",
    "%matplotlib inline\n",
    "np.set_printoptions(suppress = True)"
   ]
  },
  {
   "cell_type": "code",
   "execution_count": 2,
   "id": "cf4b486d",
   "metadata": {
    "colab": {
     "base_uri": "https://localhost:8080/"
    },
    "id": "cf4b486d",
    "outputId": "acf9c0b8-435d-49e2-b636-68f569c7550b"
   },
   "outputs": [
    {
     "name": "stdout",
     "output_type": "stream",
     "text": [
      "CPU times: user 139 ms, sys: 44 ms, total: 183 ms\n",
      "Wall time: 185 ms\n"
     ]
    },
    {
     "data": {
      "text/plain": [
       "(96753, 10)"
      ]
     },
     "execution_count": 2,
     "metadata": {},
     "output_type": "execute_result"
    }
   ],
   "source": [
    "%%time\n",
    "data = pd.read_csv('card transactions.csv')\n",
    "data = data.iloc[:,0:10] # delete empty cols\n",
    "data.shape"
   ]
  },
  {
   "cell_type": "code",
   "execution_count": 3,
   "id": "ff6f2d7d",
   "metadata": {
    "colab": {
     "base_uri": "https://localhost:8080/",
     "height": 206
    },
    "id": "ff6f2d7d",
    "outputId": "d66a955d-ca2b-48b8-f617-8a048babb04d"
   },
   "outputs": [
    {
     "data": {
      "text/html": [
       "<div>\n",
       "<style scoped>\n",
       "    .dataframe tbody tr th:only-of-type {\n",
       "        vertical-align: middle;\n",
       "    }\n",
       "\n",
       "    .dataframe tbody tr th {\n",
       "        vertical-align: top;\n",
       "    }\n",
       "\n",
       "    .dataframe thead th {\n",
       "        text-align: right;\n",
       "    }\n",
       "</style>\n",
       "<table border=\"1\" class=\"dataframe\">\n",
       "  <thead>\n",
       "    <tr style=\"text-align: right;\">\n",
       "      <th></th>\n",
       "      <th>Recnum</th>\n",
       "      <th>Cardnum</th>\n",
       "      <th>Date</th>\n",
       "      <th>Merchnum</th>\n",
       "      <th>Merch description</th>\n",
       "      <th>Merch state</th>\n",
       "      <th>Merch zip</th>\n",
       "      <th>Transtype</th>\n",
       "      <th>Amount</th>\n",
       "      <th>Fraud</th>\n",
       "    </tr>\n",
       "  </thead>\n",
       "  <tbody>\n",
       "    <tr>\n",
       "      <th>0</th>\n",
       "      <td>1</td>\n",
       "      <td>5142190439</td>\n",
       "      <td>1/1/10</td>\n",
       "      <td>5509006296254</td>\n",
       "      <td>FEDEX SHP 12/23/09 AB#</td>\n",
       "      <td>TN</td>\n",
       "      <td>38118.0</td>\n",
       "      <td>P</td>\n",
       "      <td>3.62</td>\n",
       "      <td>0</td>\n",
       "    </tr>\n",
       "    <tr>\n",
       "      <th>1</th>\n",
       "      <td>2</td>\n",
       "      <td>5142183973</td>\n",
       "      <td>1/1/10</td>\n",
       "      <td>61003026333</td>\n",
       "      <td>SERVICE MERCHANDISE #81</td>\n",
       "      <td>MA</td>\n",
       "      <td>1803.0</td>\n",
       "      <td>P</td>\n",
       "      <td>31.42</td>\n",
       "      <td>0</td>\n",
       "    </tr>\n",
       "    <tr>\n",
       "      <th>2</th>\n",
       "      <td>3</td>\n",
       "      <td>5142131721</td>\n",
       "      <td>1/1/10</td>\n",
       "      <td>4503082993600</td>\n",
       "      <td>OFFICE DEPOT #191</td>\n",
       "      <td>MD</td>\n",
       "      <td>20706.0</td>\n",
       "      <td>P</td>\n",
       "      <td>178.49</td>\n",
       "      <td>0</td>\n",
       "    </tr>\n",
       "    <tr>\n",
       "      <th>3</th>\n",
       "      <td>4</td>\n",
       "      <td>5142148452</td>\n",
       "      <td>1/1/10</td>\n",
       "      <td>5509006296254</td>\n",
       "      <td>FEDEX SHP 12/28/09 AB#</td>\n",
       "      <td>TN</td>\n",
       "      <td>38118.0</td>\n",
       "      <td>P</td>\n",
       "      <td>3.62</td>\n",
       "      <td>0</td>\n",
       "    </tr>\n",
       "    <tr>\n",
       "      <th>4</th>\n",
       "      <td>5</td>\n",
       "      <td>5142190439</td>\n",
       "      <td>1/1/10</td>\n",
       "      <td>5509006296254</td>\n",
       "      <td>FEDEX SHP 12/23/09 AB#</td>\n",
       "      <td>TN</td>\n",
       "      <td>38118.0</td>\n",
       "      <td>P</td>\n",
       "      <td>3.62</td>\n",
       "      <td>0</td>\n",
       "    </tr>\n",
       "  </tbody>\n",
       "</table>\n",
       "</div>"
      ],
      "text/plain": [
       "   Recnum     Cardnum    Date       Merchnum        Merch description  \\\n",
       "0       1  5142190439  1/1/10  5509006296254   FEDEX SHP 12/23/09 AB#   \n",
       "1       2  5142183973  1/1/10    61003026333  SERVICE MERCHANDISE #81   \n",
       "2       3  5142131721  1/1/10  4503082993600        OFFICE DEPOT #191   \n",
       "3       4  5142148452  1/1/10  5509006296254   FEDEX SHP 12/28/09 AB#   \n",
       "4       5  5142190439  1/1/10  5509006296254   FEDEX SHP 12/23/09 AB#   \n",
       "\n",
       "  Merch state  Merch zip Transtype  Amount  Fraud  \n",
       "0          TN    38118.0         P    3.62      0  \n",
       "1          MA     1803.0         P   31.42      0  \n",
       "2          MD    20706.0         P  178.49      0  \n",
       "3          TN    38118.0         P    3.62      0  \n",
       "4          TN    38118.0         P    3.62      0  "
      ]
     },
     "execution_count": 3,
     "metadata": {},
     "output_type": "execute_result"
    }
   ],
   "source": [
    "data.head()"
   ]
  },
  {
   "cell_type": "code",
   "execution_count": 4,
   "id": "ac3ef863",
   "metadata": {
    "id": "ac3ef863"
   },
   "outputs": [],
   "source": [
    "numerics = ['Date','Amount']\n",
    "categoricals = ['Recnum','Cardnum','Merchnum','Merch description',\n",
    "               'Merch state','Merch zip','Transtype','Fraud']"
   ]
  },
  {
   "cell_type": "code",
   "execution_count": 5,
   "id": "6c454314",
   "metadata": {
    "colab": {
     "base_uri": "https://localhost:8080/",
     "height": 300
    },
    "id": "6c454314",
    "outputId": "d3d99daf-f076-4c0b-fc39-f3d5ed39b6b9"
   },
   "outputs": [
    {
     "data": {
      "text/html": [
       "<div>\n",
       "<style scoped>\n",
       "    .dataframe tbody tr th:only-of-type {\n",
       "        vertical-align: middle;\n",
       "    }\n",
       "\n",
       "    .dataframe tbody tr th {\n",
       "        vertical-align: top;\n",
       "    }\n",
       "\n",
       "    .dataframe thead th {\n",
       "        text-align: right;\n",
       "    }\n",
       "</style>\n",
       "<table border=\"1\" class=\"dataframe\">\n",
       "  <thead>\n",
       "    <tr style=\"text-align: right;\">\n",
       "      <th></th>\n",
       "      <th>% Populated</th>\n",
       "      <th># Blank</th>\n",
       "      <th># Zeros</th>\n",
       "      <th># Unique Values</th>\n",
       "      <th>Most Common Value</th>\n",
       "    </tr>\n",
       "  </thead>\n",
       "  <tbody>\n",
       "    <tr>\n",
       "      <th>Recnum</th>\n",
       "      <td>100.00</td>\n",
       "      <td>0</td>\n",
       "      <td>0</td>\n",
       "      <td>96753</td>\n",
       "      <td>1</td>\n",
       "    </tr>\n",
       "    <tr>\n",
       "      <th>Cardnum</th>\n",
       "      <td>100.00</td>\n",
       "      <td>0</td>\n",
       "      <td>0</td>\n",
       "      <td>1645</td>\n",
       "      <td>5142148452.0</td>\n",
       "    </tr>\n",
       "    <tr>\n",
       "      <th>Merchnum</th>\n",
       "      <td>96.51</td>\n",
       "      <td>3375</td>\n",
       "      <td>231</td>\n",
       "      <td>13091</td>\n",
       "      <td>930090121224</td>\n",
       "    </tr>\n",
       "    <tr>\n",
       "      <th>Merch description</th>\n",
       "      <td>100.00</td>\n",
       "      <td>0</td>\n",
       "      <td>0</td>\n",
       "      <td>13126</td>\n",
       "      <td>GSA-FSS-ADV</td>\n",
       "    </tr>\n",
       "    <tr>\n",
       "      <th>Merch state</th>\n",
       "      <td>98.76</td>\n",
       "      <td>1195</td>\n",
       "      <td>0</td>\n",
       "      <td>227</td>\n",
       "      <td>TN</td>\n",
       "    </tr>\n",
       "    <tr>\n",
       "      <th>Merch zip</th>\n",
       "      <td>95.19</td>\n",
       "      <td>4656</td>\n",
       "      <td>0</td>\n",
       "      <td>4567</td>\n",
       "      <td>38118.0</td>\n",
       "    </tr>\n",
       "    <tr>\n",
       "      <th>Transtype</th>\n",
       "      <td>100.00</td>\n",
       "      <td>0</td>\n",
       "      <td>0</td>\n",
       "      <td>4</td>\n",
       "      <td>P</td>\n",
       "    </tr>\n",
       "    <tr>\n",
       "      <th>Fraud</th>\n",
       "      <td>100.00</td>\n",
       "      <td>0</td>\n",
       "      <td>0</td>\n",
       "      <td>2</td>\n",
       "      <td>0.0</td>\n",
       "    </tr>\n",
       "  </tbody>\n",
       "</table>\n",
       "</div>"
      ],
      "text/plain": [
       "                   % Populated  # Blank  # Zeros  # Unique Values  \\\n",
       "Recnum                  100.00        0        0            96753   \n",
       "Cardnum                 100.00        0        0             1645   \n",
       "Merchnum                 96.51     3375      231            13091   \n",
       "Merch description       100.00        0        0            13126   \n",
       "Merch state              98.76     1195        0              227   \n",
       "Merch zip                95.19     4656        0             4567   \n",
       "Transtype               100.00        0        0                4   \n",
       "Fraud                   100.00        0        0                2   \n",
       "\n",
       "                  Most Common Value  \n",
       "Recnum                            1  \n",
       "Cardnum                5142148452.0  \n",
       "Merchnum               930090121224  \n",
       "Merch description       GSA-FSS-ADV  \n",
       "Merch state                      TN  \n",
       "Merch zip                   38118.0  \n",
       "Transtype                         P  \n",
       "Fraud                           0.0  "
      ]
     },
     "execution_count": 5,
     "metadata": {},
     "output_type": "execute_result"
    }
   ],
   "source": [
    "categorical_data = data.loc[:,categoricals]\n",
    "populated2 = categorical_data.notna().mean()\n",
    "blank = categorical_data.isnull()\n",
    "zeros = categorical_data[categoricals] == '0' \n",
    "# 0 in text, not include dummy numeric 0 in field 'Fraud' \n",
    "# 0 in field 'Fraud' has its meaning so it's good to exclude it here\n",
    "unique = categorical_data.nunique(axis = 0)\n",
    "mode = categorical_data.mode().iloc[0,:]\n",
    "cate_summary = pd.DataFrame(data = {'% Populated':(populated2*100).round(2),\n",
    "                                    '# Blank': blank.sum(),\n",
    "                                    '# Zeros': zeros.sum(),\n",
    "                                    '# Unique Values':unique.round(2),\n",
    "                                    'Most Common Value':mode})\n",
    "cate_summary"
   ]
  },
  {
   "cell_type": "code",
   "execution_count": 6,
   "id": "f468cd7d",
   "metadata": {
    "colab": {
     "base_uri": "https://localhost:8080/",
     "height": 112
    },
    "id": "f468cd7d",
    "outputId": "db66d7a0-6ab4-49a1-c676-7ffe60dc4519"
   },
   "outputs": [
    {
     "data": {
      "text/html": [
       "<div>\n",
       "<style scoped>\n",
       "    .dataframe tbody tr th:only-of-type {\n",
       "        vertical-align: middle;\n",
       "    }\n",
       "\n",
       "    .dataframe tbody tr th {\n",
       "        vertical-align: top;\n",
       "    }\n",
       "\n",
       "    .dataframe thead th {\n",
       "        text-align: right;\n",
       "    }\n",
       "</style>\n",
       "<table border=\"1\" class=\"dataframe\">\n",
       "  <thead>\n",
       "    <tr style=\"text-align: right;\">\n",
       "      <th></th>\n",
       "      <th>% Populated</th>\n",
       "      <th># Blank</th>\n",
       "      <th># Zeros</th>\n",
       "      <th>Most Common Value</th>\n",
       "      <th>Min</th>\n",
       "      <th>Max</th>\n",
       "    </tr>\n",
       "  </thead>\n",
       "  <tbody>\n",
       "    <tr>\n",
       "      <th>Date</th>\n",
       "      <td>100.0</td>\n",
       "      <td>0</td>\n",
       "      <td>0</td>\n",
       "      <td>2010-02-28 00:00:00</td>\n",
       "      <td>2010-01-01 00:00:00</td>\n",
       "      <td>2010-12-31 00:00:00</td>\n",
       "    </tr>\n",
       "    <tr>\n",
       "      <th>Amount</th>\n",
       "      <td>100.0</td>\n",
       "      <td>0</td>\n",
       "      <td>0</td>\n",
       "      <td>3.62</td>\n",
       "      <td>0.01</td>\n",
       "      <td>3102045.53</td>\n",
       "    </tr>\n",
       "  </tbody>\n",
       "</table>\n",
       "</div>"
      ],
      "text/plain": [
       "        % Populated  # Blank  # Zeros    Most Common Value  \\\n",
       "Date          100.0        0        0  2010-02-28 00:00:00   \n",
       "Amount        100.0        0        0                 3.62   \n",
       "\n",
       "                        Min                  Max  \n",
       "Date    2010-01-01 00:00:00  2010-12-31 00:00:00  \n",
       "Amount                 0.01           3102045.53  "
      ]
     },
     "execution_count": 6,
     "metadata": {},
     "output_type": "execute_result"
    }
   ],
   "source": [
    "data['Date'] = pd.to_datetime(data['Date'])\n",
    "numeric_data = data.loc[:,numerics]\n",
    "populated2 = numeric_data.notna().mean()\n",
    "blank = numeric_data.isnull()\n",
    "zeros = numeric_data[numerics] == 0\n",
    "mode =  numeric_data.mode().iloc[0,:]\n",
    "num_summary = pd.DataFrame(data = {'% Populated':(populated2*100).round(2),\n",
    "                                    '# Blank': blank.sum(),\n",
    "                                    '# Zeros': zeros.sum(),\n",
    "                                    'Most Common Value': mode,\n",
    "                                    'Min': numeric_data[numerics].min(),\n",
    "                                    'Max': numeric_data[numerics].max()})\n",
    "num_summary"
   ]
  },
  {
   "cell_type": "markdown",
   "id": "07ec0960",
   "metadata": {
    "id": "07ec0960"
   },
   "source": [
    "## Data Cleaning"
   ]
  },
  {
   "cell_type": "markdown",
   "id": "0a7fea25",
   "metadata": {
    "id": "0a7fea25"
   },
   "source": [
    "### Fill in Missing Data (Imputation)"
   ]
  },
  {
   "cell_type": "code",
   "execution_count": 7,
   "id": "0831a2b8",
   "metadata": {
    "id": "0831a2b8"
   },
   "outputs": [],
   "source": [
    "data_copy = data.copy()\n",
    "# rename cols with space in it\n",
    "data_copy.rename(columns={'Merch description': 'Merch_description', \n",
    "                          'Merch state': 'Merch_state',\n",
    "                          'Merch zip': 'Merch_zip'}, inplace=True)"
   ]
  },
  {
   "cell_type": "markdown",
   "id": "d48557e0",
   "metadata": {
    "id": "d48557e0"
   },
   "source": [
    "#### Merch state"
   ]
  },
  {
   "cell_type": "code",
   "execution_count": 8,
   "id": "f751c5fc",
   "metadata": {
    "id": "f751c5fc"
   },
   "outputs": [],
   "source": [
    "empty_ms = data_copy[data_copy['Merch_state'].isna()]"
   ]
  },
  {
   "cell_type": "markdown",
   "id": "663ce074",
   "metadata": {
    "id": "663ce074"
   },
   "source": [
    "##### Missing Merch state with zip code"
   ]
  },
  {
   "cell_type": "code",
   "execution_count": 9,
   "id": "3cdcf93f",
   "metadata": {
    "colab": {
     "base_uri": "https://localhost:8080/"
    },
    "id": "3cdcf93f",
    "outputId": "0622aaf6-ee8f-4f7a-94c4-2b6c65a60dbd"
   },
   "outputs": [
    {
     "data": {
      "text/plain": [
       "array([  926.,   929.,  1400., 65132., 86899., 23080., 60528.,   934.,\n",
       "         902.,   738., 90805., 76302.,     9.,   914.,     6., 95461.,\n",
       "       50823.,     2., 48700.,   680.,     1.,   681.,   623.,   726.,\n",
       "         936., 12108.,   791.,   907.,   922.,   920.,     3.,   801.,\n",
       "           8., 31040., 38117., 41160.])"
      ]
     },
     "execution_count": 9,
     "metadata": {},
     "output_type": "execute_result"
    }
   ],
   "source": [
    "# does the record have a zip code?\n",
    "empty_ms_with_zp = empty_ms[empty_ms['Merch_zip'].notna()]\n",
    "empty_ms_with_zp.Merch_zip.unique()"
   ]
  },
  {
   "cell_type": "code",
   "execution_count": 10,
   "id": "3714cb32",
   "metadata": {
    "id": "3714cb32"
   },
   "outputs": [],
   "source": [
    "# # Proofreading zipcode \n",
    "# # uszipcode & pyzipcode don't work well, painful\n",
    "# # I manually do it here :(\n",
    "# # range 00600-00799,00900-00999 ---- PR\n",
    "# # range 00001-00122 ---- AK \n",
    "# # (not the standardized one but there are info showing these zip codes are in AK)\n",
    "# # range 01001-05544 ---- MA\n",
    "# # range 63001-65899 ---- MO\n",
    "# # range 90000-90800 ---- CA\n",
    "# # range 22000\n",
    "# for i in empty_ms_with_zp.index:\n",
    "#     if data_copy.iloc[i,6]>=600 and data_copy.iloc[i,6]<=799\\\n",
    "#     or data_copy.iloc[i,6]>=900 and data_copy.iloc[i,6]<=999:\n",
    "#         data_copy.iloc[i,5] = 'PR'\n",
    "#     elif data_copy.iloc[i,6]>=0 and data_copy.iloc[i,6]<=122:\n",
    "#         data_copy.iloc[i,5] = 'AK'\n",
    "#     elif data_copy.iloc[i,6]>=1001 and data_copy.iloc[i,6]<=5544:\n",
    "#         data_copy.iloc[i,5] = 'MA'\n",
    "#     elif data_copy.iloc[i,6]>=63001 and data_copy.iloc[i,6]<=65899:\n",
    "#         data_copy.iloc[i,5] = 'MO'"
   ]
  },
  {
   "cell_type": "code",
   "execution_count": 11,
   "id": "eb460103",
   "metadata": {
    "colab": {
     "base_uri": "https://localhost:8080/"
    },
    "id": "eb460103",
    "outputId": "c4dc4a2f-c791-4a2b-c89a-2d74169b6476"
   },
   "outputs": [],
   "source": [
    "# pip install uszipcode"
   ]
  },
  {
   "cell_type": "code",
   "execution_count": 12,
   "id": "c3c29e3b",
   "metadata": {
    "colab": {
     "base_uri": "https://localhost:8080/"
    },
    "id": "c3c29e3b",
    "outputId": "852ed95d-47cd-4f82-ac9a-23cc25d240b4"
   },
   "outputs": [
    {
     "name": "stderr",
     "output_type": "stream",
     "text": [
      "/Users/lily/opt/anaconda3/lib/python3.9/site-packages/fuzzywuzzy/fuzz.py:11: UserWarning: Using slow pure-python SequenceMatcher. Install python-Levenshtein to remove this warning\n",
      "  warnings.warn('Using slow pure-python SequenceMatcher. Install python-Levenshtein to remove this warning')\n"
     ]
    }
   ],
   "source": [
    "from uszipcode import SearchEngine\n",
    "engine = SearchEngine()"
   ]
  },
  {
   "cell_type": "code",
   "execution_count": 13,
   "id": "85e5d2a1",
   "metadata": {
    "colab": {
     "base_uri": "https://localhost:8080/"
    },
    "id": "85e5d2a1",
    "outputId": "1e17584e-9cbb-431b-c73d-40ee3a1e7f20"
   },
   "outputs": [
    {
     "name": "stdout",
     "output_type": "stream",
     "text": [
      "1400.0 is not in the USA.\n",
      "65132.0 is not in the USA.\n",
      "86899.0 is not in the USA.\n",
      "23080.0 is not in the USA.\n",
      "60528.0 is not in the USA.\n",
      "60528.0 is not in the USA.\n",
      "86899.0 is not in the USA.\n",
      "60528.0 is not in the USA.\n",
      "60528.0 is not in the USA.\n",
      "23080.0 is not in the USA.\n",
      "9.0 is not in the USA.\n",
      "6.0 is not in the USA.\n",
      "50823.0 is not in the USA.\n",
      "6.0 is not in the USA.\n",
      "2.0 is not in the USA.\n",
      "48700.0 is not in the USA.\n",
      "6.0 is not in the USA.\n",
      "86899.0 is not in the USA.\n",
      "48700.0 is not in the USA.\n",
      "1.0 is not in the USA.\n",
      "1.0 is not in the USA.\n",
      "2.0 is not in the USA.\n",
      "2.0 is not in the USA.\n",
      "3.0 is not in the USA.\n",
      "9.0 is not in the USA.\n",
      "9.0 is not in the USA.\n",
      "6.0 is not in the USA.\n",
      "2.0 is not in the USA.\n",
      "8.0 is not in the USA.\n",
      "9.0 is not in the USA.\n",
      "6.0 is not in the USA.\n"
     ]
    }
   ],
   "source": [
    "collect_outside_US = []\n",
    "for i in empty_ms_with_zp.index:\n",
    "    try:\n",
    "        zipcode = engine.by_zipcode(data_copy.iloc[i,6].astype(int))\n",
    "        data_copy.iloc[i,5] = zipcode.state\n",
    "    except AttributeError:\n",
    "        collect_outside_US.append(i)\n",
    "        print('{} is not in the USA.'.format(data_copy.iloc[i,6]))\n",
    "        pass"
   ]
  },
  {
   "cell_type": "code",
   "execution_count": 14,
   "id": "03e7e1b0",
   "metadata": {
    "colab": {
     "base_uri": "https://localhost:8080/"
    },
    "id": "03e7e1b0",
    "outputId": "3dccac77-8729-49c3-c1a6-c7edd785edad"
   },
   "outputs": [
    {
     "data": {
      "text/plain": [
       "1139"
      ]
     },
     "execution_count": 14,
     "metadata": {},
     "output_type": "execute_result"
    }
   ],
   "source": [
    "data_copy['Merch_state'].isna().sum()"
   ]
  },
  {
   "cell_type": "markdown",
   "id": "981daa90",
   "metadata": {
    "id": "981daa90"
   },
   "source": [
    "##### Missing Merch state with zip code outside USA"
   ]
  },
  {
   "cell_type": "code",
   "execution_count": 15,
   "id": "fd1c2b2f",
   "metadata": {
    "id": "fd1c2b2f"
   },
   "outputs": [],
   "source": [
    "# Because we know the location is outside the US\n",
    "# We'll just fill in those missing values with 'Unknown'\n",
    "for i in collect_outside_US:\n",
    "    data_copy.iloc[i,5] = 'Unknown'    "
   ]
  },
  {
   "cell_type": "code",
   "execution_count": 16,
   "id": "3ef63b53",
   "metadata": {
    "colab": {
     "base_uri": "https://localhost:8080/"
    },
    "id": "3ef63b53",
    "outputId": "60d353fd-7436-4718-c416-c24363e1a0a0"
   },
   "outputs": [
    {
     "data": {
      "text/plain": [
       "1108"
      ]
     },
     "execution_count": 16,
     "metadata": {},
     "output_type": "execute_result"
    }
   ],
   "source": [
    "data_copy['Merch_state'].isna().sum()"
   ]
  },
  {
   "cell_type": "markdown",
   "id": "93ccc384",
   "metadata": {
    "id": "93ccc384"
   },
   "source": [
    "##### Missing Merch state without zip code"
   ]
  },
  {
   "cell_type": "code",
   "execution_count": 17,
   "id": "4c589e34",
   "metadata": {
    "id": "4c589e34"
   },
   "outputs": [],
   "source": [
    "# Using the Merch state of 'mode of Merch description' to replace all nan\n",
    "mode = data_copy['Merch_description'].mode().tolist()[0]\n",
    "state_mode = data_copy[data_copy['Merch_description'] == mode].iloc[0,5]\n",
    "empty_after_fill_ms = data_copy[data_copy['Merch_state'].isna()]\n",
    "for i in empty_after_fill_ms.index:\n",
    "    data_copy.iloc[i,5] = state_mode"
   ]
  },
  {
   "cell_type": "code",
   "execution_count": 18,
   "id": "120f7505",
   "metadata": {
    "colab": {
     "base_uri": "https://localhost:8080/"
    },
    "id": "120f7505",
    "outputId": "264a6f62-23bd-4e1e-81e4-6b11a6474a5c"
   },
   "outputs": [
    {
     "data": {
      "text/plain": [
       "0"
      ]
     },
     "execution_count": 18,
     "metadata": {},
     "output_type": "execute_result"
    }
   ],
   "source": [
    "data_copy['Merch_state'].isna().sum()"
   ]
  },
  {
   "cell_type": "markdown",
   "id": "87533588",
   "metadata": {
    "id": "87533588"
   },
   "source": [
    "#### Merchnum"
   ]
  },
  {
   "cell_type": "code",
   "execution_count": 19,
   "id": "37c5125e",
   "metadata": {
    "colab": {
     "base_uri": "https://localhost:8080/"
    },
    "id": "37c5125e",
    "outputId": "1a3e5a54-6bdd-40bb-b920-3ee709281fd5"
   },
   "outputs": [
    {
     "name": "stdout",
     "output_type": "stream",
     "text": [
      "#NaN in Merchnum (original # is 3375): 3606\n"
     ]
    }
   ],
   "source": [
    "# if Merchnum = '0', replace with NaN\n",
    "data_copy[data_copy['Merchnum'] == '0'] == True\n",
    "data_copy['Merchnum'].replace('0',np.nan,inplace=True)\n",
    "# test whether it change '0' into np.nan\n",
    "print('#NaN in Merchnum (original # is 3375): {}'\\\n",
    "      .format(data_copy['Merchnum'].isna().sum()))"
   ]
  },
  {
   "cell_type": "code",
   "execution_count": 20,
   "id": "1e807d73",
   "metadata": {
    "id": "1e807d73"
   },
   "outputs": [],
   "source": [
    "# We have no clear clue for deciding the Merchant number, \n",
    "# so we will use the Merchnum of 'mode of Merch description' to replace all nan\n",
    "mode = data_copy['Merch_description'].mode().tolist()[0]\n",
    "num_mode = data_copy[data_copy['Merch_description'] == mode].iloc[0,3]\n",
    "empty_after_fill_mn = data_copy[data_copy['Merchnum'].isna()]\n",
    "for i in empty_after_fill_mn.index:\n",
    "    data_copy.iloc[i,3] = num_mode"
   ]
  },
  {
   "cell_type": "code",
   "execution_count": 21,
   "id": "d86b4cdb",
   "metadata": {
    "colab": {
     "base_uri": "https://localhost:8080/"
    },
    "id": "d86b4cdb",
    "outputId": "be6a8035-c570-4778-bf2b-2c975ce32604"
   },
   "outputs": [
    {
     "data": {
      "text/plain": [
       "0"
      ]
     },
     "execution_count": 21,
     "metadata": {},
     "output_type": "execute_result"
    }
   ],
   "source": [
    "data_copy['Merchnum'].isna().sum()"
   ]
  },
  {
   "cell_type": "markdown",
   "id": "c8edf5aa",
   "metadata": {
    "id": "c8edf5aa"
   },
   "source": [
    "#### Merch zip"
   ]
  },
  {
   "cell_type": "code",
   "execution_count": 22,
   "id": "d82ea115",
   "metadata": {
    "id": "d82ea115"
   },
   "outputs": [],
   "source": [
    "# We will use the Merch zip of 'mode of Merch description' to replace all nan\n",
    "mode = data_copy['Merch_description'].mode().tolist()[0]\n",
    "zip_mode = data_copy[data_copy['Merch_description'] == mode].iloc[0,6]\n",
    "empty_after_fill_mz = data_copy[data_copy['Merch_zip'].isna()]\n",
    "for i in empty_after_fill_mz.index:\n",
    "    data_copy.iloc[i,6] = zip_mode"
   ]
  },
  {
   "cell_type": "code",
   "execution_count": 23,
   "id": "fcbf1ecc",
   "metadata": {
    "colab": {
     "base_uri": "https://localhost:8080/"
    },
    "id": "fcbf1ecc",
    "outputId": "a975a42b-2dca-47aa-dc42-64d41f8c27af"
   },
   "outputs": [
    {
     "data": {
      "text/plain": [
       "0"
      ]
     },
     "execution_count": 23,
     "metadata": {},
     "output_type": "execute_result"
    }
   ],
   "source": [
    "data_copy['Merch_zip'].isna().sum()"
   ]
  },
  {
   "cell_type": "code",
   "execution_count": 24,
   "id": "be5efc65",
   "metadata": {
    "colab": {
     "base_uri": "https://localhost:8080/"
    },
    "id": "be5efc65",
    "outputId": "1ac86b4b-ebd6-4ec9-b2bc-1de291c1b5ef"
   },
   "outputs": [
    {
     "data": {
      "text/plain": [
       "Recnum               0\n",
       "Cardnum              0\n",
       "Date                 0\n",
       "Merchnum             0\n",
       "Merch_description    0\n",
       "Merch_state          0\n",
       "Merch_zip            0\n",
       "Transtype            0\n",
       "Amount               0\n",
       "Fraud                0\n",
       "dtype: int64"
      ]
     },
     "execution_count": 24,
     "metadata": {},
     "output_type": "execute_result"
    }
   ],
   "source": [
    "data_copy.isna().sum()"
   ]
  },
  {
   "cell_type": "code",
   "execution_count": 25,
   "id": "72152950",
   "metadata": {
    "id": "72152950"
   },
   "outputs": [],
   "source": [
    "# keep a copy of the cleaned data just in case\n",
    "data_copy.to_csv('cleaned_data_hw8.csv',index = False)"
   ]
  },
  {
   "cell_type": "markdown",
   "id": "8fa403db",
   "metadata": {
    "id": "8fa403db"
   },
   "source": [
    "## Make Variables"
   ]
  },
  {
   "cell_type": "code",
   "execution_count": 26,
   "id": "ZySKvWdEz2Xa",
   "metadata": {
    "id": "ZySKvWdEz2Xa"
   },
   "outputs": [],
   "source": [
    "data = pd.read_csv('cleaned_data_hw8.csv')"
   ]
  },
  {
   "cell_type": "code",
   "execution_count": 27,
   "id": "5f9acbf9",
   "metadata": {
    "colab": {
     "base_uri": "https://localhost:8080/"
    },
    "id": "5f9acbf9",
    "outputId": "4e3d92b7-0273-406b-91a9-40b33d97ffcf"
   },
   "outputs": [
    {
     "data": {
      "text/plain": [
       "Recnum                        int64\n",
       "Cardnum                      object\n",
       "Date                 datetime64[ns]\n",
       "Merchnum                     object\n",
       "Merch_description            object\n",
       "Merch_state                  object\n",
       "Merch_zip                    object\n",
       "Transtype                    object\n",
       "Amount                      float64\n",
       "Fraud                         int64\n",
       "dtype: object"
      ]
     },
     "execution_count": 27,
     "metadata": {},
     "output_type": "execute_result"
    }
   ],
   "source": [
    "# Data Preparation\n",
    "#right alignment\n",
    "data['Cardnum']=data['Cardnum'].apply(lambda x:'{0:0>10}'.format(x))\n",
    "data['Merch_zip']=data['Merch_zip'].apply(lambda x:'{0:0>5}'.format(x))\n",
    "data['Merchnum']=data['Merchnum'].apply(lambda x:'{0:0>13}'.format(x))\n",
    "# Convert date\n",
    "data['Date'] = pd.to_datetime(data['Date'])\n",
    "# Make data from categorical field to be strings\n",
    "data['Cardnum'] = data['Cardnum'].astype(str)\n",
    "data['Merchnum'] = data['Merchnum'].astype(str)\n",
    "data['Merch_description'] = data['Merch_description'].astype(str)\n",
    "data['Merch_state'] = data['Merch_state'].astype(str)\n",
    "data['Merch_zip'] = data['Merch_zip'].astype(str)\n",
    "\n",
    "data.dtypes\n"
   ]
  },
  {
   "cell_type": "markdown",
   "id": "ab5fcbe6",
   "metadata": {
    "id": "ab5fcbe6"
   },
   "source": [
    "### Day of Week Target Encoding"
   ]
  },
  {
   "cell_type": "code",
   "execution_count": 28,
   "id": "a6243fab",
   "metadata": {
    "id": "a6243fab"
   },
   "outputs": [],
   "source": [
    "data['dow'] = data.Date.apply(lambda x: calendar.day_name[x.weekday()])"
   ]
  },
  {
   "cell_type": "code",
   "execution_count": 29,
   "id": "316f33a9",
   "metadata": {
    "id": "316f33a9"
   },
   "outputs": [],
   "source": [
    "# Separate the OOT\n",
    "train_set = data[data.Date < '2010-11-01']"
   ]
  },
  {
   "cell_type": "code",
   "execution_count": 30,
   "id": "53ab73b4",
   "metadata": {
    "colab": {
     "base_uri": "https://localhost:8080/",
     "height": 329
    },
    "id": "53ab73b4",
    "outputId": "b258a869-c203-4a76-9bf4-810908b5ade5"
   },
   "outputs": [],
   "source": [
    "#Statistical Smoothing\n",
    "c = 4;nmid = 20;y_avg = train_set['Fraud'].mean()\n",
    "y_dow = train_set.groupby('dow')['Fraud'].mean()\n",
    "num = train_set.groupby('dow').size()\n",
    "y_dow_smooth = y_avg + (y_dow - y_avg)/(1 + np.exp(-(num - nmid)/c))\n",
    "data['dow_risk'] = data.dow.map(y_dow_smooth)"
   ]
  },
  {
   "cell_type": "code",
   "execution_count": 31,
   "id": "2dde846d",
   "metadata": {
    "id": "2dde846d"
   },
   "outputs": [],
   "source": [
    "# delete files that we don't need any more to free up memory\n",
    "del train_set"
   ]
  },
  {
   "cell_type": "code",
   "execution_count": 32,
   "id": "7932ce70",
   "metadata": {
    "id": "7932ce70"
   },
   "outputs": [],
   "source": [
    "y_dow = y_dow.reset_index()\n",
    "cats = ['Monday','Tuesday','Wednesday','Thursday','Friday','Saturday','Sunday']\n",
    "y_dow['dow'] = pd.Categorical(y_dow['dow'],categories = cats,ordered = True)\n",
    "y_dow = y_dow.sort_values('dow')\n",
    "y_dow = y_dow.set_index('dow')"
   ]
  },
  {
   "cell_type": "code",
   "execution_count": 33,
   "id": "d28fea58",
   "metadata": {
    "id": "d28fea58"
   },
   "outputs": [
    {
     "data": {
      "image/png": "[encoded data removed]",
      "text/plain": [
       "<Figure size 2000x1000 with 1 Axes>"
      ]
     },
     "metadata": {},
     "output_type": "display_data"
    }
   ],
   "source": [
    "#plot\n",
    "fig,ax = plt.subplots(figsize=(20,10))\n",
    "plt.bar(data = y_dow,x = y_dow.index,height = 'Fraud',color = 'darkblue')\n",
    "ax.axhline(y = y_avg,ls = '--',lw = 2)\n",
    "plt.title('Fraud Proportion of Each Weekday', fontsize = 30)\n",
    "\n",
    "for i in (y_dow.index):\n",
    "    ax.text(i,y_dow.loc[i,'Fraud'] + 0.0001,round(y_dow.loc[i,'Fraud'],5),\\\n",
    "            horizontalalignment = 'center',fontsize = 15)\n",
    "\n",
    "plt.savefig('risktable.png')\n",
    "plt.show()"
   ]
  },
  {
   "cell_type": "markdown",
   "id": "34678248",
   "metadata": {
    "id": "34678248"
   },
   "source": [
    "### Make new entities"
   ]
  },
  {
   "cell_type": "code",
   "execution_count": 34,
   "id": "b9199fed",
   "metadata": {
    "id": "b9199fed"
   },
   "outputs": [
    {
     "data": {
      "text/plain": [
       "Recnum                        int64\n",
       "Cardnum                      object\n",
       "Date                 datetime64[ns]\n",
       "Merchnum                     object\n",
       "Merch_description            object\n",
       "Merch_state                  object\n",
       "Merch_zip                    object\n",
       "Transtype                    object\n",
       "Amount                      float64\n",
       "Fraud                         int64\n",
       "dow                          object\n",
       "dow_risk                    float64\n",
       "dtype: object"
      ]
     },
     "execution_count": 34,
     "metadata": {},
     "output_type": "execute_result"
    }
   ],
   "source": [
    "data.dtypes"
   ]
  },
  {
   "cell_type": "code",
   "execution_count": 35,
   "id": "df1fbc93",
   "metadata": {
    "id": "df1fbc93"
   },
   "outputs": [],
   "source": [
    "data['Merch_num_des'] = data.Merchnum + data.Merch_description\n",
    "data['Merch_num_state'] = data.Merchnum + data.Merch_state\n",
    "data['Merch_num_zip'] = data.Merchnum + data.Merch_zip\n",
    "data['Merch_des_state'] = data.Merch_description + data.Merch_state\n",
    "data['Merch_des_zip'] = data.Merch_description + data.Merch_zip\n",
    "data['Merch_state_zip'] = data.Merch_state + data.Merch_zip\n",
    "data['Merch_num_des_state'] = data.Merchnum + data.Merch_description + data.Merch_state\n",
    "data['Merch_num_des_zip'] = data.Merchnum + data.Merch_description + data.Merch_zip\n",
    "data['Merch_num_state_zip'] = data.Merchnum + data.Merch_state + data.Merch_zip\n",
    "data['Merch_des_state_zip'] = data.Merch_description + data.Merch_state + data.Merch_zip\n",
    "data['Merch_all_info'] = data.Merchnum + data.Merch_description + data.Merch_state + data.Merch_zip"
   ]
  },
  {
   "cell_type": "code",
   "execution_count": 36,
   "id": "NwgSc4PHzGUo",
   "metadata": {
    "id": "NwgSc4PHzGUo"
   },
   "outputs": [
    {
     "data": {
      "text/plain": [
       "Index(['Recnum', 'Cardnum', 'Date', 'Merchnum', 'Merch_description',\n",
       "       'Merch_state', 'Merch_zip', 'Transtype', 'Amount', 'Fraud', 'dow',\n",
       "       'dow_risk', 'Merch_num_des', 'Merch_num_state', 'Merch_num_zip',\n",
       "       'Merch_des_state', 'Merch_des_zip', 'Merch_state_zip',\n",
       "       'Merch_num_des_state', 'Merch_num_des_zip', 'Merch_num_state_zip',\n",
       "       'Merch_des_state_zip', 'Merch_all_info'],\n",
       "      dtype='object')"
      ]
     },
     "execution_count": 36,
     "metadata": {},
     "output_type": "execute_result"
    }
   ],
   "source": [
    "data.columns"
   ]
  },
  {
   "cell_type": "code",
   "execution_count": 37,
   "id": "ixVHsz9rzbCx",
   "metadata": {
    "id": "ixVHsz9rzbCx"
   },
   "outputs": [],
   "source": [
    "for i in list(data.iloc[:,np.r_[1,3:7,12:23]]):\n",
    "    data['transtype_'+i] = data.Transtype + data[i]"
   ]
  },
  {
   "cell_type": "code",
   "execution_count": 38,
   "id": "IdFm_Ybz5_TY",
   "metadata": {
    "id": "IdFm_Ybz5_TY"
   },
   "outputs": [],
   "source": [
    "for i in list(data.iloc[:,np.r_[3:7,12:23]]):\n",
    "    data['card_'+i] = data.Cardnum + data[i]"
   ]
  },
  {
   "cell_type": "code",
   "execution_count": 39,
   "id": "V48OS7l_7Mjp",
   "metadata": {
    "id": "V48OS7l_7Mjp"
   },
   "outputs": [
    {
     "data": {
      "text/plain": [
       "54"
      ]
     },
     "execution_count": 39,
     "metadata": {},
     "output_type": "execute_result"
    }
   ],
   "source": [
    "len(data.columns)"
   ]
  },
  {
   "cell_type": "code",
   "execution_count": 40,
   "id": "d317d804",
   "metadata": {
    "id": "slfctdfD7Mrs"
   },
   "outputs": [
    {
     "data": {
      "text/plain": [
       "['Cardnum',\n",
       " 'Merchnum',\n",
       " 'Merch_description',\n",
       " 'Merch_state',\n",
       " 'Merch_zip',\n",
       " 'Transtype',\n",
       " 'Merch_num_des',\n",
       " 'Merch_num_state',\n",
       " 'Merch_num_zip',\n",
       " 'Merch_des_state',\n",
       " 'Merch_des_zip',\n",
       " 'Merch_state_zip',\n",
       " 'Merch_num_des_state',\n",
       " 'Merch_num_des_zip',\n",
       " 'Merch_num_state_zip',\n",
       " 'Merch_des_state_zip',\n",
       " 'Merch_all_info',\n",
       " 'transtype_Cardnum',\n",
       " 'transtype_Merchnum',\n",
       " 'transtype_Merch_description',\n",
       " 'transtype_Merch_state',\n",
       " 'transtype_Merch_zip',\n",
       " 'transtype_Merch_num_des',\n",
       " 'transtype_Merch_num_state',\n",
       " 'transtype_Merch_num_zip',\n",
       " 'transtype_Merch_des_state',\n",
       " 'transtype_Merch_des_zip',\n",
       " 'transtype_Merch_state_zip',\n",
       " 'transtype_Merch_num_des_state',\n",
       " 'transtype_Merch_num_des_zip',\n",
       " 'transtype_Merch_num_state_zip',\n",
       " 'transtype_Merch_des_state_zip',\n",
       " 'transtype_Merch_all_info',\n",
       " 'card_Merchnum',\n",
       " 'card_Merch_description',\n",
       " 'card_Merch_state',\n",
       " 'card_Merch_zip',\n",
       " 'card_Merch_num_des',\n",
       " 'card_Merch_num_state',\n",
       " 'card_Merch_num_zip',\n",
       " 'card_Merch_des_state',\n",
       " 'card_Merch_des_zip',\n",
       " 'card_Merch_state_zip',\n",
       " 'card_Merch_num_des_state',\n",
       " 'card_Merch_num_des_zip',\n",
       " 'card_Merch_num_state_zip',\n",
       " 'card_Merch_des_state_zip',\n",
       " 'card_Merch_all_info']"
      ]
     },
     "execution_count": 40,
     "metadata": {},
     "output_type": "execute_result"
    }
   ],
   "source": [
    "attributes=list(data.iloc[:,np.r_[1, 3:8, 12:54]].columns)\n",
    "attributes"
   ]
  },
  {
   "cell_type": "code",
   "execution_count": 41,
   "id": "16bd58d1",
   "metadata": {},
   "outputs": [
    {
     "data": {
      "text/plain": [
       "Recnum                           0\n",
       "Cardnum                          0\n",
       "Date                             0\n",
       "Merchnum                         0\n",
       "Merch_description                0\n",
       "Merch_state                      0\n",
       "Merch_zip                        0\n",
       "Transtype                        0\n",
       "Amount                           0\n",
       "Fraud                            0\n",
       "dow                              0\n",
       "dow_risk                         0\n",
       "Merch_num_des                    0\n",
       "Merch_num_state                  0\n",
       "Merch_num_zip                    0\n",
       "Merch_des_state                  0\n",
       "Merch_des_zip                    0\n",
       "Merch_state_zip                  0\n",
       "Merch_num_des_state              0\n",
       "Merch_num_des_zip                0\n",
       "Merch_num_state_zip              0\n",
       "Merch_des_state_zip              0\n",
       "Merch_all_info                   0\n",
       "transtype_Cardnum                0\n",
       "transtype_Merchnum               0\n",
       "transtype_Merch_description      0\n",
       "transtype_Merch_state            0\n",
       "transtype_Merch_zip              0\n",
       "transtype_Merch_num_des          0\n",
       "transtype_Merch_num_state        0\n",
       "transtype_Merch_num_zip          0\n",
       "transtype_Merch_des_state        0\n",
       "transtype_Merch_des_zip          0\n",
       "transtype_Merch_state_zip        0\n",
       "transtype_Merch_num_des_state    0\n",
       "transtype_Merch_num_des_zip      0\n",
       "transtype_Merch_num_state_zip    0\n",
       "transtype_Merch_des_state_zip    0\n",
       "transtype_Merch_all_info         0\n",
       "card_Merchnum                    0\n",
       "card_Merch_description           0\n",
       "card_Merch_state                 0\n",
       "card_Merch_zip                   0\n",
       "card_Merch_num_des               0\n",
       "card_Merch_num_state             0\n",
       "card_Merch_num_zip               0\n",
       "card_Merch_des_state             0\n",
       "card_Merch_des_zip               0\n",
       "card_Merch_state_zip             0\n",
       "card_Merch_num_des_state         0\n",
       "card_Merch_num_des_zip           0\n",
       "card_Merch_num_state_zip         0\n",
       "card_Merch_des_state_zip         0\n",
       "card_Merch_all_info              0\n",
       "dtype: int64"
      ]
     },
     "execution_count": 41,
     "metadata": {},
     "output_type": "execute_result"
    }
   ],
   "source": [
    "data.isna().sum()"
   ]
  },
  {
   "cell_type": "markdown",
   "id": "f11495f0",
   "metadata": {
    "id": "NmepilZg6c8Y"
   },
   "source": [
    "### New Variables"
   ]
  },
  {
   "cell_type": "markdown",
   "id": "a4ce923b",
   "metadata": {},
   "source": [
    "#### Benford's Law"
   ]
  },
  {
   "cell_type": "code",
   "execution_count": 42,
   "id": "2655fb82",
   "metadata": {},
   "outputs": [],
   "source": [
    "bf = data.copy()\n",
    "bf['amount_100'] = (bf['Amount']*100).astype(str)\n",
    "bf['first_dig'] = bf['amount_100'].str[0]\n",
    "dropfedex = bf[bf['Merch_description'].str.contains('FEDEX')]\n",
    "droplist = dropfedex.index.tolist()\n",
    "bf1 = bf.drop(droplist)\n",
    "bf1['bin'] = bf1['first_dig'].apply(lambda x:'low' if x == '1'\\\n",
    "                                   else ('low' if x == '2' else 'high'))"
   ]
  },
  {
   "cell_type": "code",
   "execution_count": 43,
   "id": "d42a91d4",
   "metadata": {},
   "outputs": [],
   "source": [
    "card_bf = bf1.groupby(['Cardnum','bin']).agg({'bin':['count']}).reset_index()\n",
    "card_bf.columns = ['Cardnum','bin','count']"
   ]
  },
  {
   "cell_type": "code",
   "execution_count": 44,
   "id": "eea94fd8",
   "metadata": {},
   "outputs": [
    {
     "data": {
      "text/html": [
       "<div>\n",
       "<style scoped>\n",
       "    .dataframe tbody tr th:only-of-type {\n",
       "        vertical-align: middle;\n",
       "    }\n",
       "\n",
       "    .dataframe tbody tr th {\n",
       "        vertical-align: top;\n",
       "    }\n",
       "\n",
       "    .dataframe thead th {\n",
       "        text-align: right;\n",
       "    }\n",
       "</style>\n",
       "<table border=\"1\" class=\"dataframe\">\n",
       "  <thead>\n",
       "    <tr style=\"text-align: right;\">\n",
       "      <th></th>\n",
       "      <th>Cardnum</th>\n",
       "      <th>n_high</th>\n",
       "      <th>n_low</th>\n",
       "    </tr>\n",
       "  </thead>\n",
       "  <tbody>\n",
       "    <tr>\n",
       "      <th>0</th>\n",
       "      <td>5142110002</td>\n",
       "      <td>1.0</td>\n",
       "      <td>1.0</td>\n",
       "    </tr>\n",
       "    <tr>\n",
       "      <th>1</th>\n",
       "      <td>5142110081</td>\n",
       "      <td>4.0</td>\n",
       "      <td>1.0</td>\n",
       "    </tr>\n",
       "    <tr>\n",
       "      <th>2</th>\n",
       "      <td>5142110313</td>\n",
       "      <td>1.0</td>\n",
       "      <td>2.0</td>\n",
       "    </tr>\n",
       "    <tr>\n",
       "      <th>3</th>\n",
       "      <td>5142110402</td>\n",
       "      <td>8.0</td>\n",
       "      <td>5.0</td>\n",
       "    </tr>\n",
       "    <tr>\n",
       "      <th>4</th>\n",
       "      <td>5142110434</td>\n",
       "      <td>1.0</td>\n",
       "      <td>1.0</td>\n",
       "    </tr>\n",
       "    <tr>\n",
       "      <th>...</th>\n",
       "      <td>...</td>\n",
       "      <td>...</td>\n",
       "      <td>...</td>\n",
       "    </tr>\n",
       "    <tr>\n",
       "      <th>1637</th>\n",
       "      <td>5142310397</td>\n",
       "      <td>1.0</td>\n",
       "      <td>1.0</td>\n",
       "    </tr>\n",
       "    <tr>\n",
       "      <th>1638</th>\n",
       "      <td>5142310525</td>\n",
       "      <td>3.0</td>\n",
       "      <td>1.0</td>\n",
       "    </tr>\n",
       "    <tr>\n",
       "      <th>1639</th>\n",
       "      <td>5142310598</td>\n",
       "      <td>1.0</td>\n",
       "      <td>2.0</td>\n",
       "    </tr>\n",
       "    <tr>\n",
       "      <th>1640</th>\n",
       "      <td>5142310768</td>\n",
       "      <td>2.0</td>\n",
       "      <td>2.0</td>\n",
       "    </tr>\n",
       "    <tr>\n",
       "      <th>1641</th>\n",
       "      <td>5142847398</td>\n",
       "      <td>35.0</td>\n",
       "      <td>10.0</td>\n",
       "    </tr>\n",
       "  </tbody>\n",
       "</table>\n",
       "<p>1642 rows × 3 columns</p>\n",
       "</div>"
      ],
      "text/plain": [
       "         Cardnum  n_high  n_low\n",
       "0     5142110002     1.0    1.0\n",
       "1     5142110081     4.0    1.0\n",
       "2     5142110313     1.0    2.0\n",
       "3     5142110402     8.0    5.0\n",
       "4     5142110434     1.0    1.0\n",
       "...          ...     ...    ...\n",
       "1637  5142310397     1.0    1.0\n",
       "1638  5142310525     3.0    1.0\n",
       "1639  5142310598     1.0    2.0\n",
       "1640  5142310768     2.0    2.0\n",
       "1641  5142847398    35.0   10.0\n",
       "\n",
       "[1642 rows x 3 columns]"
      ]
     },
     "execution_count": 44,
     "metadata": {},
     "output_type": "execute_result"
    }
   ],
   "source": [
    "card_bf = card_bf.pivot_table(index = 'Cardnum', columns = 'bin',\n",
    "                             values = 'count', aggfunc = 'sum').reset_index()\n",
    "card_bf.columns = ['Cardnum','n_high','n_low']\n",
    "card_bf = card_bf.fillna(1) \n",
    "card_bf"
   ]
  },
  {
   "cell_type": "code",
   "execution_count": 45,
   "id": "7d453ddd",
   "metadata": {},
   "outputs": [],
   "source": [
    "# calculating R, 1/R, U, n, t, U_smoothed\n",
    "c = 3\n",
    "n_mid = 15\n",
    "card_bf['R'] = (1.096 * card_bf['n_low']/card_bf['n_high'])\n",
    "card_bf['1/R'] = (1/card_bf['R'])\n",
    "card_bf['U'] = list(map(lambda x,y:max(x,y),card_bf['R'],card_bf['1/R']))\n",
    "card_bf['n'] = card_bf['n_high'] + card_bf['n_low']\n",
    "card_bf['t'] = ((card_bf['n'] - n_mid)/c)\n",
    "card_bf['U_smoothed'] = list(map(lambda x,y:(1+(x-1)/(1+np.exp(-y))),card_bf['U'],card_bf['t']))\n",
    "card_bf['U_smoothed'] = card_bf['U_smoothed']"
   ]
  },
  {
   "cell_type": "code",
   "execution_count": 46,
   "id": "9f9182e7",
   "metadata": {},
   "outputs": [
    {
     "data": {
      "text/html": [
       "<div>\n",
       "<style scoped>\n",
       "    .dataframe tbody tr th:only-of-type {\n",
       "        vertical-align: middle;\n",
       "    }\n",
       "\n",
       "    .dataframe tbody tr th {\n",
       "        vertical-align: top;\n",
       "    }\n",
       "\n",
       "    .dataframe thead th {\n",
       "        text-align: right;\n",
       "    }\n",
       "</style>\n",
       "<table border=\"1\" class=\"dataframe\">\n",
       "  <thead>\n",
       "    <tr style=\"text-align: right;\">\n",
       "      <th></th>\n",
       "      <th>Merchnum</th>\n",
       "      <th>n_high</th>\n",
       "      <th>n_low</th>\n",
       "    </tr>\n",
       "  </thead>\n",
       "  <tbody>\n",
       "    <tr>\n",
       "      <th>0</th>\n",
       "      <td>0000000000499</td>\n",
       "      <td>1.0</td>\n",
       "      <td>1.0</td>\n",
       "    </tr>\n",
       "    <tr>\n",
       "      <th>1</th>\n",
       "      <td>0000000001408</td>\n",
       "      <td>1.0</td>\n",
       "      <td>1.0</td>\n",
       "    </tr>\n",
       "    <tr>\n",
       "      <th>2</th>\n",
       "      <td>0000000004227</td>\n",
       "      <td>1.0</td>\n",
       "      <td>1.0</td>\n",
       "    </tr>\n",
       "    <tr>\n",
       "      <th>3</th>\n",
       "      <td>0000000006763</td>\n",
       "      <td>4.0</td>\n",
       "      <td>1.0</td>\n",
       "    </tr>\n",
       "    <tr>\n",
       "      <th>4</th>\n",
       "      <td>0000000006929</td>\n",
       "      <td>9.0</td>\n",
       "      <td>3.0</td>\n",
       "    </tr>\n",
       "    <tr>\n",
       "      <th>...</th>\n",
       "      <td>...</td>\n",
       "      <td>...</td>\n",
       "      <td>...</td>\n",
       "    </tr>\n",
       "    <tr>\n",
       "      <th>13078</th>\n",
       "      <td>9995659070006</td>\n",
       "      <td>1.0</td>\n",
       "      <td>1.0</td>\n",
       "    </tr>\n",
       "    <tr>\n",
       "      <th>13079</th>\n",
       "      <td>9996060597900</td>\n",
       "      <td>1.0</td>\n",
       "      <td>1.0</td>\n",
       "    </tr>\n",
       "    <tr>\n",
       "      <th>13080</th>\n",
       "      <td>DU49038320006</td>\n",
       "      <td>1.0</td>\n",
       "      <td>1.0</td>\n",
       "    </tr>\n",
       "    <tr>\n",
       "      <th>13081</th>\n",
       "      <td>PENNE9 CO #05</td>\n",
       "      <td>1.0</td>\n",
       "      <td>1.0</td>\n",
       "    </tr>\n",
       "    <tr>\n",
       "      <th>13082</th>\n",
       "      <td>PENNE9 CO #68</td>\n",
       "      <td>1.0</td>\n",
       "      <td>1.0</td>\n",
       "    </tr>\n",
       "  </tbody>\n",
       "</table>\n",
       "<p>13083 rows × 3 columns</p>\n",
       "</div>"
      ],
      "text/plain": [
       "            Merchnum  n_high  n_low\n",
       "0      0000000000499     1.0    1.0\n",
       "1      0000000001408     1.0    1.0\n",
       "2      0000000004227     1.0    1.0\n",
       "3      0000000006763     4.0    1.0\n",
       "4      0000000006929     9.0    3.0\n",
       "...              ...     ...    ...\n",
       "13078  9995659070006     1.0    1.0\n",
       "13079  9996060597900     1.0    1.0\n",
       "13080  DU49038320006     1.0    1.0\n",
       "13081  PENNE9 CO #05     1.0    1.0\n",
       "13082  PENNE9 CO #68     1.0    1.0\n",
       "\n",
       "[13083 rows x 3 columns]"
      ]
     },
     "execution_count": 46,
     "metadata": {},
     "output_type": "execute_result"
    }
   ],
   "source": [
    "merch_bf = bf1.groupby(['Merchnum','bin']).agg({'bin':['count']}).reset_index()\n",
    "merch_bf.columns = ['Merchnum','bin','count']\n",
    "merch_bf = merch_bf.pivot_table(index = 'Merchnum', columns = 'bin',\n",
    "                             values = 'count', aggfunc = 'sum').reset_index()\n",
    "merch_bf.columns = ['Merchnum','n_high','n_low']\n",
    "merch_bf = merch_bf.fillna(1) \n",
    "merch_bf"
   ]
  },
  {
   "cell_type": "code",
   "execution_count": 47,
   "id": "f7d72d58",
   "metadata": {},
   "outputs": [],
   "source": [
    "# calculating R, 1/R, U, n, t, U_smoothed\n",
    "c = 3\n",
    "n_mid = 15\n",
    "merch_bf['R'] = (1.096 * merch_bf['n_low']/merch_bf['n_high'])\n",
    "merch_bf['1/R'] = (1/merch_bf['R'])\n",
    "merch_bf['U'] = list(map(lambda x,y:max(x,y),merch_bf['R'],merch_bf['1/R']))\n",
    "merch_bf['n'] = merch_bf['n_high'] + merch_bf['n_low']\n",
    "merch_bf['t'] = ((merch_bf['n'] - n_mid)/c)\n",
    "merch_bf['U_smoothed'] = list(map(lambda x,y:(1+(x-1)/(1+np.exp(-y))),merch_bf['U'],merch_bf['t']))\n",
    "merch_bf['U_smoothed'] = merch_bf['U_smoothed']"
   ]
  },
  {
   "cell_type": "code",
   "execution_count": 48,
   "id": "95ae3122",
   "metadata": {},
   "outputs": [
    {
     "data": {
      "text/html": [
       "<div>\n",
       "<style scoped>\n",
       "    .dataframe tbody tr th:only-of-type {\n",
       "        vertical-align: middle;\n",
       "    }\n",
       "\n",
       "    .dataframe tbody tr th {\n",
       "        vertical-align: top;\n",
       "    }\n",
       "\n",
       "    .dataframe thead th {\n",
       "        text-align: right;\n",
       "    }\n",
       "</style>\n",
       "<table border=\"1\" class=\"dataframe\">\n",
       "  <thead>\n",
       "    <tr style=\"text-align: right;\">\n",
       "      <th></th>\n",
       "      <th>U_smoothed</th>\n",
       "    </tr>\n",
       "    <tr>\n",
       "      <th>Cardnum</th>\n",
       "      <th></th>\n",
       "    </tr>\n",
       "  </thead>\n",
       "  <tbody>\n",
       "    <tr>\n",
       "      <th>5142253356</th>\n",
       "      <td>13.371199</td>\n",
       "    </tr>\n",
       "    <tr>\n",
       "      <th>5142299705</th>\n",
       "      <td>9.027976</td>\n",
       "    </tr>\n",
       "    <tr>\n",
       "      <th>5142197563</th>\n",
       "      <td>8.150852</td>\n",
       "    </tr>\n",
       "  </tbody>\n",
       "</table>\n",
       "</div>"
      ],
      "text/plain": [
       "            U_smoothed\n",
       "Cardnum               \n",
       "5142253356   13.371199\n",
       "5142299705    9.027976\n",
       "5142197563    8.150852"
      ]
     },
     "execution_count": 48,
     "metadata": {},
     "output_type": "execute_result"
    }
   ],
   "source": [
    "card_bf.set_index('Cardnum', inplace = True)\n",
    "card_Ustar = pd.DataFrame(card_bf['U_smoothed'])\n",
    "card_Ustar.sort_values(['U_smoothed'],ascending = False).head(3)"
   ]
  },
  {
   "cell_type": "code",
   "execution_count": 49,
   "id": "9d66ebe5",
   "metadata": {},
   "outputs": [
    {
     "data": {
      "text/html": [
       "<div>\n",
       "<style scoped>\n",
       "    .dataframe tbody tr th:only-of-type {\n",
       "        vertical-align: middle;\n",
       "    }\n",
       "\n",
       "    .dataframe tbody tr th {\n",
       "        vertical-align: top;\n",
       "    }\n",
       "\n",
       "    .dataframe thead th {\n",
       "        text-align: right;\n",
       "    }\n",
       "</style>\n",
       "<table border=\"1\" class=\"dataframe\">\n",
       "  <thead>\n",
       "    <tr style=\"text-align: right;\">\n",
       "      <th></th>\n",
       "      <th>U_smoothed</th>\n",
       "    </tr>\n",
       "    <tr>\n",
       "      <th>Merchnum</th>\n",
       "      <th></th>\n",
       "    </tr>\n",
       "  </thead>\n",
       "  <tbody>\n",
       "    <tr>\n",
       "      <th>0991808369338</th>\n",
       "      <td>165.145985</td>\n",
       "    </tr>\n",
       "    <tr>\n",
       "      <th>8078200641472</th>\n",
       "      <td>64.663981</td>\n",
       "    </tr>\n",
       "    <tr>\n",
       "      <th>0308904389335</th>\n",
       "      <td>48.357557</td>\n",
       "    </tr>\n",
       "  </tbody>\n",
       "</table>\n",
       "</div>"
      ],
      "text/plain": [
       "               U_smoothed\n",
       "Merchnum                 \n",
       "0991808369338  165.145985\n",
       "8078200641472   64.663981\n",
       "0308904389335   48.357557"
      ]
     },
     "execution_count": 49,
     "metadata": {},
     "output_type": "execute_result"
    }
   ],
   "source": [
    "merch_bf.set_index('Merchnum', inplace = True)\n",
    "merch_Ustar = pd.DataFrame(merch_bf['U_smoothed'])\n",
    "merch_Ustar.sort_values(['U_smoothed'],ascending = False).head(3)"
   ]
  },
  {
   "cell_type": "code",
   "execution_count": 50,
   "id": "efdfd1da",
   "metadata": {},
   "outputs": [],
   "source": [
    "# I'm not so sure for this part\n",
    "final = data.copy() \n",
    "final = final.merge(card_Ustar, how = 'left', left_on = 'Cardnum',\n",
    "                    right_on = card_Ustar.index)\n",
    "final = final.rename(columns = {'U_smoothed': 'U_smoothed_cardnum'})\n",
    "final = final.merge(merch_Ustar, how = 'left', left_on = 'Merchnum',\n",
    "                    right_on = merch_Ustar.index)\n",
    "final = final.rename(columns = {'U_smoothed': 'U_smoothed_merchnum'})\n",
    "final['U_smoothed_cardnum'] = final['U_smoothed_cardnum'].replace(np.nan,1)\n",
    "final['U_smoothed_merchnum'] = final['U_smoothed_merchnum'].replace(np.nan,1)"
   ]
  },
  {
   "cell_type": "markdown",
   "id": "a0c6fd7d",
   "metadata": {},
   "source": [
    "#### Preparation for further variable making"
   ]
  },
  {
   "cell_type": "code",
   "execution_count": 51,
   "id": "0b0c3bae",
   "metadata": {},
   "outputs": [],
   "source": [
    "# Because my laptop can not run the code :(\n",
    "# Here we seperate the datasets to run it one by one\n",
    "def writing_csv(dataframe, filename):\n",
    "    try:\n",
    "        dataframe.to_csv('output/' + filename + '.csv',index=False)\n",
    "    except:\n",
    "        dataframe.to_csv(filename + '.csv',index=False)"
   ]
  },
  {
   "cell_type": "code",
   "execution_count": 52,
   "id": "8f41ee3d",
   "metadata": {},
   "outputs": [],
   "source": [
    "numvar = {}\n",
    "listvar = []\n",
    "\n",
    "def num_column_count(dataframe, name):\n",
    "    \n",
    "    global numvar, listvar\n",
    "    \n",
    "    numvars_new = len(dataframe.columns) - 2 # Exclude Recnum and Fraud \n",
    "    numvar[name] = numvars_new\n",
    "    \n",
    "    listvar_new = dataframe.columns.to_list()[2:] # Exclude Recnum and Fraud \n",
    "    listvar += listvar_new\n",
    "\n",
    "    print(\"from Dataframe: \" + name)\n",
    "    print(\"new variables:\", numvars_new,\"  total variables:\", sum(numvar.values()))"
   ]
  },
  {
   "cell_type": "code",
   "execution_count": 53,
   "id": "9c69bfaa",
   "metadata": {},
   "outputs": [],
   "source": [
    "df = data.copy()\n",
    "df['check_Date'] = df.Date\n",
    "df['check_Recnum'] = df.Recnum"
   ]
  },
  {
   "cell_type": "code",
   "execution_count": 54,
   "id": "7c3d9d87",
   "metadata": {},
   "outputs": [
    {
     "name": "stdout",
     "output_type": "stream",
     "text": [
      "(96753, 2)\n"
     ]
    },
    {
     "data": {
      "text/html": [
       "<div>\n",
       "<style scoped>\n",
       "    .dataframe tbody tr th:only-of-type {\n",
       "        vertical-align: middle;\n",
       "    }\n",
       "\n",
       "    .dataframe tbody tr th {\n",
       "        vertical-align: top;\n",
       "    }\n",
       "\n",
       "    .dataframe thead th {\n",
       "        text-align: right;\n",
       "    }\n",
       "</style>\n",
       "<table border=\"1\" class=\"dataframe\">\n",
       "  <thead>\n",
       "    <tr style=\"text-align: right;\">\n",
       "      <th></th>\n",
       "      <th>Recnum</th>\n",
       "      <th>Fraud</th>\n",
       "    </tr>\n",
       "  </thead>\n",
       "  <tbody>\n",
       "    <tr>\n",
       "      <th>0</th>\n",
       "      <td>1</td>\n",
       "      <td>0</td>\n",
       "    </tr>\n",
       "    <tr>\n",
       "      <th>1</th>\n",
       "      <td>2</td>\n",
       "      <td>0</td>\n",
       "    </tr>\n",
       "    <tr>\n",
       "      <th>2</th>\n",
       "      <td>3</td>\n",
       "      <td>0</td>\n",
       "    </tr>\n",
       "    <tr>\n",
       "      <th>3</th>\n",
       "      <td>4</td>\n",
       "      <td>0</td>\n",
       "    </tr>\n",
       "    <tr>\n",
       "      <th>4</th>\n",
       "      <td>5</td>\n",
       "      <td>0</td>\n",
       "    </tr>\n",
       "  </tbody>\n",
       "</table>\n",
       "</div>"
      ],
      "text/plain": [
       "   Recnum  Fraud\n",
       "0       1      0\n",
       "1       2      0\n",
       "2       3      0\n",
       "3       4      0\n",
       "4       5      0"
      ]
     },
     "execution_count": 54,
     "metadata": {},
     "output_type": "execute_result"
    }
   ],
   "source": [
    "# Use this instead of \"vars\"\n",
    "# Only keep \"Recnum\" and \"Fraud\". Thus, each of my csv file will not have any variables mixing together.\n",
    "fraud_label = data.loc[:, [\"Recnum\", \"Fraud\"]].copy() \n",
    "print(fraud_label.shape)\n",
    "fraud_label.head()"
   ]
  },
  {
   "cell_type": "markdown",
   "id": "33371c54",
   "metadata": {},
   "source": [
    "#### Day Since & Velocity"
   ]
  },
  {
   "cell_type": "code",
   "execution_count": 55,
   "id": "db54aa33",
   "metadata": {},
   "outputs": [],
   "source": [
    "# begin = time.time()\n",
    "# for i in attributes:\n",
    "#     st = time.time()\n",
    "#     df_1 = df[['Recnum','Date',i]]\n",
    "#     df_r = df[['check_Recnum','check_Date',i,'Amount']]\n",
    "#     temp = pd.merge(df_1,df_r,left_on = i,right_on = i)\n",
    "    \n",
    "#     day_since_df = temp[temp.Recnum > temp.check_Recnum][['Recnum','Date','check_Date']]\\\n",
    "#     .groupby('Recnum')[['Date','check_Date']].last()\n",
    "#     mapper=(day_since_df.Date-day_since_df.check_Date).dt.days\n",
    "#     vars[i+'_day_since']=vars.Recnum.map(mapper)\n",
    "#     vars[i+'_day_since'].fillna(365,inplace=True)\n",
    "#     print(f'\\n{i}_day_since --->Done')\n",
    "    \n",
    "# print(f'Total run time:{(time.time()-begin)/60:0.2f}min')"
   ]
  },
  {
   "cell_type": "code",
   "execution_count": null,
   "id": "5d67a4ae",
   "metadata": {},
   "outputs": [
    {
     "name": "stdout",
     "output_type": "stream",
     "text": [
      "\n",
      "Cardnum_day_since --->Done\n",
      "Cardnum_count_0 --->Done\n",
      "Cardnum_count_1 --->Done\n",
      "Cardnum_count_3 --->Done\n",
      "Cardnum_count_7 --->Done\n",
      "Cardnum_count_14 --->Done\n",
      "Cardnum_count_30 --->Done\n",
      "Run time for entity Cardnum--------6.63s\n",
      "\n",
      "Merchnum_day_since --->Done\n",
      "Merchnum_count_0 --->Done\n",
      "Merchnum_count_1 --->Done\n",
      "Merchnum_count_3 --->Done\n",
      "Merchnum_count_7 --->Done\n",
      "Merchnum_count_14 --->Done\n",
      "Merchnum_count_30 --->Done\n",
      "Run time for entity Merchnum--------128.23s\n",
      "\n",
      "Merch_description_day_since --->Done\n",
      "Merch_description_count_0 --->Done\n",
      "Merch_description_count_1 --->Done\n",
      "Merch_description_count_3 --->Done\n",
      "Merch_description_count_7 --->Done\n",
      "Merch_description_count_14 --->Done\n",
      "Merch_description_count_30 --->Done\n",
      "Run time for entity Merch_description--------6.35s\n",
      "\n",
      "Merch_state_day_since --->Done\n",
      "Merch_state_count_0 --->Done\n",
      "Merch_state_count_1 --->Done\n",
      "Merch_state_count_3 --->Done\n",
      "Merch_state_count_7 --->Done\n",
      "Merch_state_count_14 --->Done\n",
      "Merch_state_count_30 --->Done\n",
      "Run time for entity Merch_state--------1238.00s\n",
      "\n",
      "Merch_zip_day_since --->Done\n",
      "Merch_zip_count_0 --->Done\n",
      "Merch_zip_count_1 --->Done\n",
      "Merch_zip_count_3 --->Done\n",
      "Merch_zip_count_7 --->Done\n",
      "Merch_zip_count_14 --->Done\n",
      "Merch_zip_count_30 --->Done\n",
      "Run time for entity Merch_zip--------224.43s\n"
     ]
    }
   ],
   "source": [
    "begin=time.time()\n",
    "\n",
    "vars_3 = fraud_label.copy() # I will use this instead of \"vars\"\n",
    "\n",
    "for i in attributes:\n",
    "    st = time.time()\n",
    "    df_1 = df[['Recnum','Date',i]]\n",
    "    df_r = df[['check_Recnum','check_Date',i,'Amount']]\n",
    "    temp = pd.merge(df_1, df_r, left_on = i, right_on = i)\n",
    "    \n",
    "    #day since\n",
    "    day_since_df = temp[temp.Recnum > temp.check_Recnum][['Recnum','Date','check_Date']]\\\n",
    "        .groupby('Recnum')[['Date','check_Date']].last()\n",
    "    mapper = (day_since_df.Date-day_since_df.check_Date).dt.days\n",
    "    vars_3[i + '_day_since'] = vars_3.Recnum.map(mapper)\n",
    "    vars_3[i + '_day_since'].fillna(365, inplace = True)\n",
    "    print(f'\\n{i}_day_since --->Done')\n",
    "    \n",
    "    #Velocity\n",
    "    for v in [0,1,3,7,14,30]:\n",
    "        count_day_df=temp[((temp.check_Date)>=(temp.Date-dt.timedelta(v)))\n",
    "                          &(temp.Recnum>=temp.check_Recnum)]\n",
    "        col_name=f'{i}_count_{v}'\n",
    "        mapper2=count_day_df.groupby('Recnum')[i].count()\n",
    "        vars_3[col_name] = vars_3.Recnum.map(mapper2)\n",
    "        print(f'{i}_count_{str(v)} --->Done')\n",
    "        \n",
    "    del df_1, df_r, temp\n",
    "    vars_3 = vars_3.copy() # solve for fragmented DataFrame\n",
    "\n",
    "    print(f'Run time for entity {i}--------{time.time()-st:0.2f}s')\n",
    "\n",
    "writing_csv(vars_3, '3_3_3_velocity_counts_and_days_since')\n",
    "num_column_count(vars_3, '3_3_3_velocity_counts_and_days_since')\n",
    "\n",
    "print(f'Total run time:{(time.time()-begin)/60:0.2f}min')\n",
    "\n",
    "# Cannot delete vars_2_1_1 yet as it will be used for 2_1_2 and 2_3\n",
    "# del vars_2_1_1"
   ]
  },
  {
   "cell_type": "code",
   "execution_count": null,
   "id": "f4b92a67",
   "metadata": {},
   "outputs": [],
   "source": [
    "# I don't understand this part\n",
    "\n",
    "\n",
    "\n",
    "\n",
    "# %%time\n",
    "# age_and_dow_risk = data.copy()\n",
    "# age_and_dow_risk.drop(columns=['date','firstname','lastname','dob_dt','dow'],inplace=True)\n",
    "# age_and_dow_risk.drop(columns=attributes,inplace=True)\n",
    "\n",
    "# # KK: There should be only 2 variables not including \"record\" and \"fraud_label\"\n",
    "# # KK: The 2 variables are \"age_when_apply\" and \"dow_risk\"\n",
    "# print(age_and_dow_risk.shape)\n",
    "\n",
    "# writing_csv(age_and_dow_risk, '2_0_age_and_dow_risk')\n",
    "# num_column_count(age_and_dow_risk, '2_0_age_and_dow_risk')\n",
    "# del age_and_dow_risk"
   ]
  },
  {
   "cell_type": "code",
   "execution_count": null,
   "id": "252af8e1",
   "metadata": {},
   "outputs": [],
   "source": []
  },
  {
   "cell_type": "code",
   "execution_count": null,
   "id": "a23ae961",
   "metadata": {},
   "outputs": [],
   "source": []
  }
 ],
 "metadata": {
  "colab": {
   "provenance": []
  },
  "kernelspec": {
   "display_name": "Python 3 (ipykernel)",
   "language": "python",
   "name": "python3"
  },
  "language_info": {
   "codemirror_mode": {
    "name": "ipython",
    "version": 3
   },
   "file_extension": ".py",
   "mimetype": "text/x-python",
   "name": "python",
   "nbconvert_exporter": "python",
   "pygments_lexer": "ipython3",
   "version": "3.9.12"
  },
  "toc": {
   "base_numbering": 1,
   "nav_menu": {},
   "number_sections": true,
   "sideBar": true,
   "skip_h1_title": false,
   "title_cell": "Table of Contents",
   "title_sidebar": "Contents",
   "toc_cell": false,
   "toc_position": {},
   "toc_section_display": true,
   "toc_window_display": false
  },
  "varInspector": {
   "cols": {
    "lenName": 16,
    "lenType": 16,
    "lenVar": 40
   },
   "kernels_config": {
    "python": {
     "delete_cmd_postfix": "",
     "delete_cmd_prefix": "del ",
     "library": "var_list.py",
     "varRefreshCmd": "print(var_dic_list())"
    },
    "r": {
     "delete_cmd_postfix": ") ",
     "delete_cmd_prefix": "rm(",
     "library": "var_list.r",
     "varRefreshCmd": "cat(var_dic_list()) "
    }
   },
   "types_to_exclude": [
    "module",
    "function",
    "builtin_function_or_method",
    "instance",
    "_Feature"
   ],
   "window_display": false
  }
 },
 "nbformat": 4,
 "nbformat_minor": 5
}
